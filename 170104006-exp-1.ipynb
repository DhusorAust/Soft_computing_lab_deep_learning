{
 "cells": [
  {
   "cell_type": "code",
   "execution_count": null,
   "metadata": {
    "_cell_guid": "b1076dfc-b9ad-4769-8c92-a6c4dae69d19",
    "_kg_hide-input": true,
    "_kg_hide-output": true,
    "_uuid": "8f2839f25d086af736a60e9eeb907d3b93b6e0e5"
   },
   "outputs": [],
   "source": [
    "# This Python 3 environment comes with many helpful analytics libraries installed\n",
    "# It is defined by the kaggle/python Docker image: https://github.com/kaggle/docker-python\n",
    "# For example, here's several helpful packages to load\n",
    "\n",
    "import numpy as np # linear algebra\n",
    "import pandas as pd # data processing, CSV file I/O (e.g. pd.read_csv)\n",
    "\n",
    "# Input data files are available in the read-only \"../input/\" directory\n",
    "# For example, running this (by clicking run or pressing Shift+Enter) will list all files under the input directory\n",
    "\n",
    "import os\n",
    "for dirname, _, filenames in os.walk('/kaggle/input'):\n",
    "    for filename in filenames:\n",
    "        print(os.path.join(dirname, filename))\n",
    "\n",
    "# You can write up to 20GB to the current directory (/kaggle/working/) that gets preserved as output when you create a version using \"Save & Run All\" \n",
    "# You can also write temporary files to /kaggle/temp/, but they won't be saved outside of the current session"
   ]
  },
  {
   "cell_type": "code",
   "execution_count": 1,
   "metadata": {
    "execution": {
     "iopub.execute_input": "2021-08-26T08:51:16.896925Z",
     "iopub.status.busy": "2021-08-26T08:51:16.896517Z",
     "iopub.status.idle": "2021-08-26T08:51:16.908144Z",
     "shell.execute_reply": "2021-08-26T08:51:16.906802Z",
     "shell.execute_reply.started": "2021-08-26T08:51:16.896837Z"
    }
   },
   "outputs": [],
   "source": [
    "import numpy as np\n",
    "import pandas as pd"
   ]
  },
  {
   "cell_type": "code",
   "execution_count": 2,
   "metadata": {
    "execution": {
     "iopub.execute_input": "2021-08-26T08:51:19.010961Z",
     "iopub.status.busy": "2021-08-26T08:51:19.010509Z",
     "iopub.status.idle": "2021-08-26T08:51:19.139696Z",
     "shell.execute_reply": "2021-08-26T08:51:19.138742Z",
     "shell.execute_reply.started": "2021-08-26T08:51:19.010916Z"
    }
   },
   "outputs": [],
   "source": [
    "data_lebel=pd.read_csv('/kaggle/input/soft-computing-even-id-dataset/training-a.csv')"
   ]
  },
  {
   "cell_type": "code",
   "execution_count": 3,
   "metadata": {
    "execution": {
     "iopub.execute_input": "2021-08-26T08:51:21.819136Z",
     "iopub.status.busy": "2021-08-26T08:51:21.818749Z",
     "iopub.status.idle": "2021-08-26T08:51:21.841339Z",
     "shell.execute_reply": "2021-08-26T08:51:21.840392Z",
     "shell.execute_reply.started": "2021-08-26T08:51:21.819104Z"
    }
   },
   "outputs": [
    {
     "data": {
      "text/html": [
       "<div>\n",
       "<style scoped>\n",
       "    .dataframe tbody tr th:only-of-type {\n",
       "        vertical-align: middle;\n",
       "    }\n",
       "\n",
       "    .dataframe tbody tr th {\n",
       "        vertical-align: top;\n",
       "    }\n",
       "\n",
       "    .dataframe thead th {\n",
       "        text-align: right;\n",
       "    }\n",
       "</style>\n",
       "<table border=\"1\" class=\"dataframe\">\n",
       "  <thead>\n",
       "    <tr style=\"text-align: right;\">\n",
       "      <th></th>\n",
       "      <th>filename</th>\n",
       "      <th>original filename</th>\n",
       "      <th>scanid</th>\n",
       "      <th>digit</th>\n",
       "      <th>database name original</th>\n",
       "      <th>contributing team</th>\n",
       "      <th>database name</th>\n",
       "    </tr>\n",
       "  </thead>\n",
       "  <tbody>\n",
       "    <tr>\n",
       "      <th>0</th>\n",
       "      <td>a00000.png</td>\n",
       "      <td>Scan_58_digit_5_num_8.png</td>\n",
       "      <td>58</td>\n",
       "      <td>5</td>\n",
       "      <td>BHDDB</td>\n",
       "      <td>Buet_Broncos</td>\n",
       "      <td>training-a</td>\n",
       "    </tr>\n",
       "    <tr>\n",
       "      <th>1</th>\n",
       "      <td>a00001.png</td>\n",
       "      <td>Scan_73_digit_3_num_5.png</td>\n",
       "      <td>73</td>\n",
       "      <td>3</td>\n",
       "      <td>BHDDB</td>\n",
       "      <td>Buet_Broncos</td>\n",
       "      <td>training-a</td>\n",
       "    </tr>\n",
       "    <tr>\n",
       "      <th>2</th>\n",
       "      <td>a00002.png</td>\n",
       "      <td>Scan_18_digit_1_num_3.png</td>\n",
       "      <td>18</td>\n",
       "      <td>1</td>\n",
       "      <td>BHDDB</td>\n",
       "      <td>Buet_Broncos</td>\n",
       "      <td>training-a</td>\n",
       "    </tr>\n",
       "    <tr>\n",
       "      <th>3</th>\n",
       "      <td>a00003.png</td>\n",
       "      <td>Scan_166_digit_7_num_3.png</td>\n",
       "      <td>166</td>\n",
       "      <td>7</td>\n",
       "      <td>BHDDB</td>\n",
       "      <td>Buet_Broncos</td>\n",
       "      <td>training-a</td>\n",
       "    </tr>\n",
       "    <tr>\n",
       "      <th>4</th>\n",
       "      <td>a00004.png</td>\n",
       "      <td>Scan_108_digit_0_num_1.png</td>\n",
       "      <td>108</td>\n",
       "      <td>0</td>\n",
       "      <td>BHDDB</td>\n",
       "      <td>Buet_Broncos</td>\n",
       "      <td>training-a</td>\n",
       "    </tr>\n",
       "  </tbody>\n",
       "</table>\n",
       "</div>"
      ],
      "text/plain": [
       "     filename           original filename  scanid  digit  \\\n",
       "0  a00000.png   Scan_58_digit_5_num_8.png      58      5   \n",
       "1  a00001.png   Scan_73_digit_3_num_5.png      73      3   \n",
       "2  a00002.png   Scan_18_digit_1_num_3.png      18      1   \n",
       "3  a00003.png  Scan_166_digit_7_num_3.png     166      7   \n",
       "4  a00004.png  Scan_108_digit_0_num_1.png     108      0   \n",
       "\n",
       "  database name original contributing team database name  \n",
       "0                  BHDDB      Buet_Broncos    training-a  \n",
       "1                  BHDDB      Buet_Broncos    training-a  \n",
       "2                  BHDDB      Buet_Broncos    training-a  \n",
       "3                  BHDDB      Buet_Broncos    training-a  \n",
       "4                  BHDDB      Buet_Broncos    training-a  "
      ]
     },
     "execution_count": 3,
     "metadata": {},
     "output_type": "execute_result"
    }
   ],
   "source": [
    "data_lebel.head()"
   ]
  },
  {
   "cell_type": "code",
   "execution_count": 4,
   "metadata": {
    "execution": {
     "iopub.execute_input": "2021-08-26T08:51:32.181292Z",
     "iopub.status.busy": "2021-08-26T08:51:32.180831Z",
     "iopub.status.idle": "2021-08-26T08:51:32.188377Z",
     "shell.execute_reply": "2021-08-26T08:51:32.187489Z",
     "shell.execute_reply.started": "2021-08-26T08:51:32.181251Z"
    }
   },
   "outputs": [
    {
     "data": {
      "text/plain": [
       "array([5, 3, 1, 7, 0, 4, 9, 8, 2, 6])"
      ]
     },
     "execution_count": 4,
     "metadata": {},
     "output_type": "execute_result"
    }
   ],
   "source": [
    "data_lebel['digit'].unique()"
   ]
  },
  {
   "cell_type": "code",
   "execution_count": 5,
   "metadata": {
    "execution": {
     "iopub.execute_input": "2021-08-26T08:51:32.190890Z",
     "iopub.status.busy": "2021-08-26T08:51:32.190291Z",
     "iopub.status.idle": "2021-08-26T08:51:32.204479Z",
     "shell.execute_reply": "2021-08-26T08:51:32.203214Z",
     "shell.execute_reply.started": "2021-08-26T08:51:32.190843Z"
    }
   },
   "outputs": [
    {
     "data": {
      "text/plain": [
       "2    1984\n",
       "6    1983\n",
       "4    1982\n",
       "3    1976\n",
       "0    1975\n",
       "5    1965\n",
       "9    1964\n",
       "1    1963\n",
       "7    1960\n",
       "8    1950\n",
       "Name: digit, dtype: int64"
      ]
     },
     "execution_count": 5,
     "metadata": {},
     "output_type": "execute_result"
    }
   ],
   "source": [
    "data_lebel['digit'].value_counts()"
   ]
  },
  {
   "cell_type": "code",
   "execution_count": 6,
   "metadata": {
    "execution": {
     "iopub.execute_input": "2021-08-26T08:51:32.207900Z",
     "iopub.status.busy": "2021-08-26T08:51:32.207208Z",
     "iopub.status.idle": "2021-08-26T08:51:32.494496Z",
     "shell.execute_reply": "2021-08-26T08:51:32.493680Z",
     "shell.execute_reply.started": "2021-08-26T08:51:32.207856Z"
    }
   },
   "outputs": [],
   "source": [
    "from sklearn.model_selection import train_test_split"
   ]
  },
  {
   "cell_type": "code",
   "execution_count": 7,
   "metadata": {
    "execution": {
     "iopub.execute_input": "2021-08-26T08:51:32.496533Z",
     "iopub.status.busy": "2021-08-26T08:51:32.496162Z",
     "iopub.status.idle": "2021-08-26T08:51:33.092686Z",
     "shell.execute_reply": "2021-08-26T08:51:33.091846Z",
     "shell.execute_reply.started": "2021-08-26T08:51:32.496491Z"
    }
   },
   "outputs": [],
   "source": [
    "import torch\n",
    "import cv2\n",
    "import torchvision\n",
    "from torchvision.transforms import transforms\n",
    "from torch.utils.data import Dataset, DataLoader, ConcatDataset\n",
    "import torch.optim as optim\n",
    "import torch.nn.functional as F\n",
    "from PIL import ImageFile\n",
    "import matplotlib.pyplot as plt\n",
    "import numpy as np\n",
    "import cv2\n",
    "import os\n",
    "import torch.nn as nn\n",
    "import torch.nn.functional as f\n",
    "from skimage import io\n",
    "from torch.utils.data import (\n",
    "    Dataset,\n",
    "    DataLoader,\n",
    ") "
   ]
  },
  {
   "cell_type": "code",
   "execution_count": 8,
   "metadata": {
    "execution": {
     "iopub.execute_input": "2021-08-26T08:51:33.094348Z",
     "iopub.status.busy": "2021-08-26T08:51:33.094014Z",
     "iopub.status.idle": "2021-08-26T08:51:33.103149Z",
     "shell.execute_reply": "2021-08-26T08:51:33.102217Z",
     "shell.execute_reply.started": "2021-08-26T08:51:33.094302Z"
    }
   },
   "outputs": [],
   "source": [
    "img = cv2.imread('/kaggle/input/soft-computing-even-id-dataset/training-a/a00000.png')"
   ]
  },
  {
   "cell_type": "code",
   "execution_count": 9,
   "metadata": {
    "execution": {
     "iopub.execute_input": "2021-08-26T08:51:33.104974Z",
     "iopub.status.busy": "2021-08-26T08:51:33.104549Z",
     "iopub.status.idle": "2021-08-26T08:51:33.113266Z",
     "shell.execute_reply": "2021-08-26T08:51:33.112156Z",
     "shell.execute_reply.started": "2021-08-26T08:51:33.104934Z"
    }
   },
   "outputs": [
    {
     "data": {
      "text/plain": [
       "(180, 180, 3)"
      ]
     },
     "execution_count": 9,
     "metadata": {},
     "output_type": "execute_result"
    }
   ],
   "source": [
    "img.shape"
   ]
  },
  {
   "cell_type": "code",
   "execution_count": null,
   "metadata": {},
   "outputs": [],
   "source": []
  },
  {
   "cell_type": "code",
   "execution_count": 10,
   "metadata": {
    "execution": {
     "iopub.execute_input": "2021-08-26T08:51:33.115537Z",
     "iopub.status.busy": "2021-08-26T08:51:33.115126Z",
     "iopub.status.idle": "2021-08-26T08:51:33.123719Z",
     "shell.execute_reply": "2021-08-26T08:51:33.122518Z",
     "shell.execute_reply.started": "2021-08-26T08:51:33.115499Z"
    }
   },
   "outputs": [],
   "source": [
    "IMAGE_SIZE = 40 \n",
    "transform = transforms.Compose([\n",
    "                                transforms.ToPILImage(),\n",
    "                                # transforms.Grayscale(),\n",
    "                                torchvision.transforms.ColorJitter(brightness=0.4,saturation=0.4,contrast=0.4,hue=0.4),\n",
    "                                transforms.RandomRotation(20,expand=True), \n",
    "                                transforms.Resize(IMAGE_SIZE),  ## image resize\n",
    "                                transforms.CenterCrop(IMAGE_SIZE), ## image center crop\n",
    "                                transforms.ToTensor(), ## array converted into torch tensor and then divided by 255 (1.0/255)\n",
    "                                transforms.Normalize((0.5, 0.5, 0.5), (0.5, 0.5, 0.5))\n",
    "                                # transforms.Normalize(mean=[0.485, 0.456, 0.406], std=[0.229, 0.224, 0.225])\n",
    "                                \n",
    "                               ])"
   ]
  },
  {
   "cell_type": "code",
   "execution_count": null,
   "metadata": {},
   "outputs": [],
   "source": []
  },
  {
   "cell_type": "code",
   "execution_count": 11,
   "metadata": {
    "execution": {
     "iopub.execute_input": "2021-08-26T08:51:33.127543Z",
     "iopub.status.busy": "2021-08-26T08:51:33.127086Z",
     "iopub.status.idle": "2021-08-26T08:51:33.136622Z",
     "shell.execute_reply": "2021-08-26T08:51:33.135705Z",
     "shell.execute_reply.started": "2021-08-26T08:51:33.127504Z"
    }
   },
   "outputs": [],
   "source": [
    "class digit_Dataset(Dataset):\n",
    "    def __init__(self, csv_file, root_dir, transform=True):\n",
    "        self.annotations = pd.read_csv(csv_file)\n",
    "        self.root_dir = root_dir\n",
    "        self.transform = transform\n",
    "\n",
    "    def __len__(self):\n",
    "        return len(self.annotations)\n",
    "\n",
    "    def __getitem__(self, index):\n",
    "        img_path = os.path.join(self.root_dir, self.annotations.iloc[index, 0])\n",
    "        image = cv2.imread(img_path)\n",
    "        y_label = torch.tensor(int(self.annotations.iloc[index, 3]))\n",
    "\n",
    "        if self.transform:\n",
    "            image = self.transform(image)\n",
    "\n",
    "        return (image, y_label)"
   ]
  },
  {
   "cell_type": "code",
   "execution_count": 12,
   "metadata": {
    "execution": {
     "iopub.execute_input": "2021-08-26T08:51:33.140824Z",
     "iopub.status.busy": "2021-08-26T08:51:33.140495Z",
     "iopub.status.idle": "2021-08-26T08:51:33.183557Z",
     "shell.execute_reply": "2021-08-26T08:51:33.182788Z",
     "shell.execute_reply.started": "2021-08-26T08:51:33.140744Z"
    }
   },
   "outputs": [],
   "source": [
    "dataset =digit_Dataset(\n",
    "    csv_file=\"/kaggle/input/soft-computing-even-id-dataset/training-a.csv\",\n",
    "    root_dir=\"/kaggle/input/soft-computing-even-id-dataset/training-a\",\n",
    "    transform=transform,\n",
    ")"
   ]
  },
  {
   "cell_type": "code",
   "execution_count": 13,
   "metadata": {
    "execution": {
     "iopub.execute_input": "2021-08-26T08:51:33.186327Z",
     "iopub.status.busy": "2021-08-26T08:51:33.185691Z",
     "iopub.status.idle": "2021-08-26T08:51:33.192254Z",
     "shell.execute_reply": "2021-08-26T08:51:33.191309Z",
     "shell.execute_reply.started": "2021-08-26T08:51:33.186284Z"
    }
   },
   "outputs": [
    {
     "data": {
      "text/plain": [
       "19702"
      ]
     },
     "execution_count": 13,
     "metadata": {},
     "output_type": "execute_result"
    }
   ],
   "source": [
    "len(dataset)"
   ]
  },
  {
   "cell_type": "code",
   "execution_count": 14,
   "metadata": {
    "execution": {
     "iopub.execute_input": "2021-08-26T08:51:33.194249Z",
     "iopub.status.busy": "2021-08-26T08:51:33.193850Z",
     "iopub.status.idle": "2021-08-26T08:51:33.204641Z",
     "shell.execute_reply": "2021-08-26T08:51:33.203791Z",
     "shell.execute_reply.started": "2021-08-26T08:51:33.194208Z"
    }
   },
   "outputs": [],
   "source": [
    "train_set, test_set = torch.utils.data.random_split(dataset, [15702, 4000])\n",
    "train_loader = DataLoader(dataset=train_set, batch_size=20, shuffle=True)\n",
    "test_loader = DataLoader(dataset=test_set, batch_size=20, shuffle=True)"
   ]
  },
  {
   "cell_type": "code",
   "execution_count": 15,
   "metadata": {
    "execution": {
     "iopub.execute_input": "2021-08-26T08:51:33.208590Z",
     "iopub.status.busy": "2021-08-26T08:51:33.208223Z",
     "iopub.status.idle": "2021-08-26T08:51:33.217122Z",
     "shell.execute_reply": "2021-08-26T08:51:33.216291Z",
     "shell.execute_reply.started": "2021-08-26T08:51:33.208560Z"
    }
   },
   "outputs": [
    {
     "data": {
      "text/plain": [
       "786"
      ]
     },
     "execution_count": 15,
     "metadata": {},
     "output_type": "execute_result"
    }
   ],
   "source": [
    "len(train_loader)"
   ]
  },
  {
   "cell_type": "code",
   "execution_count": 16,
   "metadata": {
    "execution": {
     "iopub.execute_input": "2021-08-26T08:51:33.220989Z",
     "iopub.status.busy": "2021-08-26T08:51:33.220305Z",
     "iopub.status.idle": "2021-08-26T08:51:33.227888Z",
     "shell.execute_reply": "2021-08-26T08:51:33.226701Z",
     "shell.execute_reply.started": "2021-08-26T08:51:33.220944Z"
    }
   },
   "outputs": [
    {
     "data": {
      "text/plain": [
       "torch.utils.data.dataloader.DataLoader"
      ]
     },
     "execution_count": 16,
     "metadata": {},
     "output_type": "execute_result"
    }
   ],
   "source": [
    "type(train_loader)"
   ]
  },
  {
   "cell_type": "code",
   "execution_count": 17,
   "metadata": {
    "execution": {
     "iopub.execute_input": "2021-08-26T08:51:33.230281Z",
     "iopub.status.busy": "2021-08-26T08:51:33.229738Z",
     "iopub.status.idle": "2021-08-26T08:51:33.384338Z",
     "shell.execute_reply": "2021-08-26T08:51:33.383572Z",
     "shell.execute_reply.started": "2021-08-26T08:51:33.230241Z"
    }
   },
   "outputs": [
    {
     "data": {
      "text/plain": [
       "torch.Size([20, 3, 40, 40])"
      ]
     },
     "execution_count": 17,
     "metadata": {},
     "output_type": "execute_result"
    }
   ],
   "source": [
    "data_iter = iter(train_loader)\n",
    "images, labels = data_iter.next()\n",
    "images.shape"
   ]
  },
  {
   "cell_type": "code",
   "execution_count": 18,
   "metadata": {
    "execution": {
     "iopub.execute_input": "2021-08-26T08:51:33.385895Z",
     "iopub.status.busy": "2021-08-26T08:51:33.385553Z",
     "iopub.status.idle": "2021-08-26T08:51:34.461107Z",
     "shell.execute_reply": "2021-08-26T08:51:34.460234Z",
     "shell.execute_reply.started": "2021-08-26T08:51:33.385859Z"
    }
   },
   "outputs": [
    {
     "name": "stderr",
     "output_type": "stream",
     "text": [
      "/opt/conda/lib/python3.7/site-packages/ipykernel_launcher.py:5: MatplotlibDeprecationWarning: Passing non-integers as three-element position specification is deprecated since 3.3 and will be removed two minor releases later.\n",
      "  \"\"\"\n"
     ]
    },
    {
     "data": {
      "image/png": "[encoded data removed]",
      "text/plain": [
       "<Figure size 1440x2304 with 10 Axes>"
      ]
     },
     "metadata": {
      "needs_background": "light"
     },
     "output_type": "display_data"
    }
   ],
   "source": [
    "dataiter = iter(train_loader)\n",
    "images, labels = dataiter.next() \n",
    "plt.subplots(figsize=(20, 32))\n",
    "for i in range(10):\n",
    "    plt.subplot(10/2, 10,i+1)\n",
    "    img = images[i].detach().numpy().transpose((1, 2, 0))\n",
    "    mean = np.array([0.5, 0.5, 0.5]) \n",
    "    std = np.array([0.5, 0.5, 0.5])\n",
    "    img = std * img + mean\n",
    "    img = np.clip(img, 0, 1)\n",
    "    plt.title(labels[i])\n",
    "    # print(img.shape)\n",
    "    plt.imshow(img)\n",
    "plt.show()"
   ]
  },
  {
   "cell_type": "code",
   "execution_count": 19,
   "metadata": {
    "execution": {
     "iopub.execute_input": "2021-08-26T08:51:34.462636Z",
     "iopub.status.busy": "2021-08-26T08:51:34.462292Z",
     "iopub.status.idle": "2021-08-26T08:51:34.485799Z",
     "shell.execute_reply": "2021-08-26T08:51:34.484691Z",
     "shell.execute_reply.started": "2021-08-26T08:51:34.462599Z"
    }
   },
   "outputs": [
    {
     "name": "stdout",
     "output_type": "stream",
     "text": [
      "Net(\n",
      "  (fc1): Linear(in_features=4800, out_features=200, bias=True)\n",
      "  (fc2): Linear(in_features=200, out_features=200, bias=True)\n",
      "  (fc3): Linear(in_features=200, out_features=200, bias=True)\n",
      "  (fc4): Linear(in_features=200, out_features=200, bias=True)\n",
      "  (fc5): Linear(in_features=200, out_features=200, bias=True)\n",
      "  (fc6): Linear(in_features=200, out_features=10, bias=True)\n",
      ")\n"
     ]
    }
   ],
   "source": [
    "class Net(nn.Module): # Module is library package\n",
    "    \n",
    "    def __init__(self):\n",
    "        super().__init__()\n",
    "        \n",
    "        self.fc1=nn.Linear(3*40 * 40, 200)  #flatten the image \n",
    "        self.fc2=nn.Linear(200,200)\n",
    "        self.fc3=nn.Linear(200,200)\n",
    "        self.fc4=nn.Linear(200,200)  \n",
    "        self.fc5=nn.Linear(200,200)\n",
    "        self.fc6=nn.Linear(200,10)\n",
    "        \n",
    "    def forward(self,x): # pass the data\n",
    "        \n",
    "        x=f.relu(self.fc1(x))\n",
    "        x=f.relu(self.fc2(x))\n",
    "        x=f.relu(self.fc3(x))\n",
    "        x=f.relu(self.fc4(x))\n",
    "        x=f.relu(self.fc5(x))\n",
    "        \n",
    "        x=self.fc6(x)\n",
    "        \n",
    "        return x\n",
    "               \n",
    "\n",
    "net=Net()\n",
    "print(net)"
   ]
  },
  {
   "cell_type": "code",
   "execution_count": 20,
   "metadata": {
    "execution": {
     "iopub.execute_input": "2021-08-26T08:51:34.487702Z",
     "iopub.status.busy": "2021-08-26T08:51:34.487332Z",
     "iopub.status.idle": "2021-08-26T08:51:36.496976Z",
     "shell.execute_reply": "2021-08-26T08:51:36.496107Z",
     "shell.execute_reply.started": "2021-08-26T08:51:34.487663Z"
    }
   },
   "outputs": [
    {
     "data": {
      "text/plain": [
       "Net(\n",
       "  (fc1): Linear(in_features=4800, out_features=200, bias=True)\n",
       "  (fc2): Linear(in_features=200, out_features=200, bias=True)\n",
       "  (fc3): Linear(in_features=200, out_features=200, bias=True)\n",
       "  (fc4): Linear(in_features=200, out_features=200, bias=True)\n",
       "  (fc5): Linear(in_features=200, out_features=200, bias=True)\n",
       "  (fc6): Linear(in_features=200, out_features=10, bias=True)\n",
       ")"
      ]
     },
     "execution_count": 20,
     "metadata": {},
     "output_type": "execute_result"
    }
   ],
   "source": [
    "net.cuda()"
   ]
  },
  {
   "cell_type": "code",
   "execution_count": 21,
   "metadata": {
    "execution": {
     "iopub.execute_input": "2021-08-26T08:51:36.498711Z",
     "iopub.status.busy": "2021-08-26T08:51:36.498350Z",
     "iopub.status.idle": "2021-08-26T08:51:36.503435Z",
     "shell.execute_reply": "2021-08-26T08:51:36.502593Z",
     "shell.execute_reply.started": "2021-08-26T08:51:36.498671Z"
    }
   },
   "outputs": [],
   "source": [
    "optimizer =  optim.SGD(net.parameters(), lr=0.01, momentum=0.9)\n",
    " \n",
    "criterion = torch.nn.CrossEntropyLoss()"
   ]
  },
  {
   "cell_type": "code",
   "execution_count": 22,
   "metadata": {
    "execution": {
     "iopub.execute_input": "2021-08-26T08:51:36.505296Z",
     "iopub.status.busy": "2021-08-26T08:51:36.504693Z",
     "iopub.status.idle": "2021-08-26T08:51:36.517083Z",
     "shell.execute_reply": "2021-08-26T08:51:36.516071Z",
     "shell.execute_reply.started": "2021-08-26T08:51:36.505258Z"
    }
   },
   "outputs": [],
   "source": [
    "device = torch.device('cuda:0' if torch.cuda.is_available() else 'cpu')"
   ]
  },
  {
   "cell_type": "code",
   "execution_count": 23,
   "metadata": {
    "execution": {
     "iopub.execute_input": "2021-08-26T08:51:36.518905Z",
     "iopub.status.busy": "2021-08-26T08:51:36.518516Z",
     "iopub.status.idle": "2021-08-26T08:51:36.530580Z",
     "shell.execute_reply": "2021-08-26T08:51:36.529512Z",
     "shell.execute_reply.started": "2021-08-26T08:51:36.518867Z"
    }
   },
   "outputs": [
    {
     "data": {
      "text/plain": [
       "device(type='cuda', index=0)"
      ]
     },
     "execution_count": 23,
     "metadata": {},
     "output_type": "execute_result"
    }
   ],
   "source": [
    "device"
   ]
  },
  {
   "cell_type": "code",
   "execution_count": 24,
   "metadata": {
    "execution": {
     "iopub.execute_input": "2021-08-26T08:51:36.532742Z",
     "iopub.status.busy": "2021-08-26T08:51:36.532209Z",
     "iopub.status.idle": "2021-08-26T09:44:20.112500Z",
     "shell.execute_reply": "2021-08-26T09:44:20.111511Z",
     "shell.execute_reply.started": "2021-08-26T08:51:36.532700Z"
    }
   },
   "outputs": [
    {
     "name": "stdout",
     "output_type": "stream",
     "text": [
      "Device cuda:0 Epoch 6/25 Step 4000 Train loss: 2.285349 Train accuracy: 0.002750 Test loss: 2.242183 Test accuracy: 0.157000\n",
      "Device cuda:0 Epoch 11/25 Step 8000 Train loss: 2.162771 Train accuracy: 0.008513 Test loss: 2.036725 Test accuracy: 0.253750\n",
      "Device cuda:0 Epoch 16/25 Step 12000 Train loss: 2.006772 Train accuracy: 0.016025 Test loss: 1.901931 Test accuracy: 0.325000\n",
      "Device cuda:0 Epoch 21/25 Step 16000 Train loss: 1.879336 Train accuracy: 0.025213 Test loss: 1.798683 Test accuracy: 0.350750\n",
      "Finish Train\n"
     ]
    }
   ],
   "source": [
    "Path='./net_final.pth'\n",
    "traininglosses = []\n",
    "trainingaccuracy = []\n",
    "testinglosses = []\n",
    "testaccuracy = []\n",
    "totalsteps = []\n",
    "epochs = 25\n",
    "steps = 0\n",
    "running_loss = 0\n",
    "print_every = 4000\n",
    "\n",
    "#epoch iteration\n",
    "for epoch in range(epochs):\n",
    "    accuracy = 0\n",
    "    for inputs, labels in train_loader:\n",
    "        net.train()\n",
    "        steps += 1\n",
    "        inputs, labels = inputs.to(device), labels.to(device)\n",
    "        \n",
    "        optimizer.zero_grad() \n",
    "        \n",
    "        logps = net.forward(inputs.view(-1,3*40*40))\n",
    "        loss = criterion(logps, labels)\n",
    "        loss.backward() \n",
    "        optimizer.step() \n",
    " \n",
    "        #Calculate traning accuracy\n",
    "        pred = torch.argmax(logps, dim=1)\n",
    "        correct = pred.eq(labels)\n",
    "       \n",
    "        running_loss += loss.item()\n",
    "        accuracy += torch.mean(correct.float())\n",
    "        \n",
    "        if steps % print_every == 0:\n",
    "            after_train_accuracy=accuracy/print_every\n",
    "            test_loss = 0\n",
    "            accuracy = 0\n",
    "            net.eval()\n",
    "            with torch.no_grad():\n",
    "                for inputs, labels in test_loader:\n",
    "                    inputs, labels = inputs.to(device), labels.to(device)\n",
    "                    logps = net.forward(inputs.view(-1,3*40*40))\n",
    "                    batch_loss = criterion(logps, labels)\n",
    "                    \n",
    "                    test_loss += batch_loss.item()\n",
    "                    \n",
    "                    pred = torch.argmax(logps, dim=1)\n",
    "                    correct = pred.eq(labels)\n",
    "                    accuracy += torch.mean(correct.float())\n",
    "            \n",
    "            traininglosses.append(running_loss/print_every)\n",
    "            trainingaccuracy.append(after_train_accuracy)\n",
    "            testinglosses.append(test_loss/len(test_loader))\n",
    "            testaccuracy.append(accuracy/len(test_loader))\n",
    "            totalsteps.append(steps)\n",
    "            print(f\"Device {device} \"\n",
    "                  f\"Epoch {epoch+1}/{epochs} \"\n",
    "                  f\"Step {steps} \"\n",
    "                  f\"Train loss: {running_loss/print_every:f} \"\n",
    "                  f\"Train accuracy: {after_train_accuracy:f} \"\n",
    "                  f\"Test loss: {test_loss/len(test_loader):f} \"\n",
    "                  f\"Test accuracy: {accuracy/len(test_loader):f}\")\n",
    "            running_loss = 0\n",
    "            accuracy = 0\n",
    "            net.train()\n",
    "print('Finish Train')\n",
    "torch.save(net.state_dict(), Path)"
   ]
  },
  {
   "cell_type": "code",
   "execution_count": 35,
   "metadata": {
    "execution": {
     "iopub.execute_input": "2021-08-26T09:49:06.982245Z",
     "iopub.status.busy": "2021-08-26T09:49:06.981893Z",
     "iopub.status.idle": "2021-08-26T09:49:07.343258Z",
     "shell.execute_reply": "2021-08-26T09:49:07.342134Z",
     "shell.execute_reply.started": "2021-08-26T09:49:06.982216Z"
    }
   },
   "outputs": [
    {
     "data": {
      "image/png": "[encoded data removed]",
      "text/plain": [
       "<Figure size 720x720 with 1 Axes>"
      ]
     },
     "metadata": {
      "needs_background": "light"
     },
     "output_type": "display_data"
    }
   ],
   "source": [
    "plt.figure(figsize=(10, 10))\n",
    "plt.plot(totalsteps, traininglosses, label='Train Loss')\n",
    "plt.plot(totalsteps, testinglosses, label='Test Loss')\n",
    "\n",
    "plt.legend()\n",
    "plt.grid()\n",
    "plt.show()"
   ]
  },
  {
   "cell_type": "code",
   "execution_count": 27,
   "metadata": {
    "execution": {
     "iopub.execute_input": "2021-08-26T09:44:20.718694Z",
     "iopub.status.busy": "2021-08-26T09:44:20.718301Z",
     "iopub.status.idle": "2021-08-26T09:44:51.605443Z",
     "shell.execute_reply": "2021-08-26T09:44:51.603740Z",
     "shell.execute_reply.started": "2021-08-26T09:44:20.718652Z"
    }
   },
   "outputs": [
    {
     "name": "stdout",
     "output_type": "stream",
     "text": [
      "0.377\n"
     ]
    }
   ],
   "source": [
    "correct=0\n",
    "total=0\n",
    "with torch.no_grad():\n",
    "    for data in test_loader:\n",
    "        X,y=data\n",
    "        X, y = X.to(device), y.to(device)\n",
    "        \n",
    "        output=net(X.view(-1,3*40*40))\n",
    "        for idx, i in enumerate(output):\n",
    "            if torch.argmax(i)==y[idx]:\n",
    "                correct+=1\n",
    "            total+=1\n",
    "            \n",
    "print(round(correct/total,3))"
   ]
  },
  {
   "cell_type": "code",
   "execution_count": 28,
   "metadata": {
    "execution": {
     "iopub.execute_input": "2021-08-26T09:44:51.607281Z",
     "iopub.status.busy": "2021-08-26T09:44:51.606905Z",
     "iopub.status.idle": "2021-08-26T09:44:51.614212Z",
     "shell.execute_reply": "2021-08-26T09:44:51.613081Z",
     "shell.execute_reply.started": "2021-08-26T09:44:51.607241Z"
    }
   },
   "outputs": [
    {
     "data": {
      "text/plain": [
       "1507"
      ]
     },
     "execution_count": 28,
     "metadata": {},
     "output_type": "execute_result"
    }
   ],
   "source": [
    "correct"
   ]
  },
  {
   "cell_type": "code",
   "execution_count": 39,
   "metadata": {
    "execution": {
     "iopub.execute_input": "2021-08-26T10:07:11.184721Z",
     "iopub.status.busy": "2021-08-26T10:07:11.184364Z",
     "iopub.status.idle": "2021-08-26T10:07:41.807728Z",
     "shell.execute_reply": "2021-08-26T10:07:41.805776Z",
     "shell.execute_reply.started": "2021-08-26T10:07:11.184690Z"
    }
   },
   "outputs": [
    {
     "name": "stdout",
     "output_type": "stream",
     "text": [
      "tensor([[164.,  71.,  29.,  18.,   3.,  28.,  55.,   9.,  33.,   0.],\n",
      "        [ 20., 164.,  24.,  21.,   0.,  32.,  85.,  17.,  62.,   0.],\n",
      "        [ 12., 148., 127.,  14.,   8.,  13.,  31.,  18.,  32.,   0.],\n",
      "        [ 37.,  51.,  12., 163.,   2.,  23.,  63.,  17.,  19.,   0.],\n",
      "        [ 18.,  80.,  96.,  49.,  81.,   9.,  14.,  24.,  21.,   0.],\n",
      "        [ 25.,  54.,  10.,  23.,   0.,  66., 158.,  61.,  17.,   0.],\n",
      "        [ 15.,  25.,   8.,   8.,   0.,   4., 315.,   7.,  37.,   0.],\n",
      "        [ 13.,  28.,  18.,  17.,   1.,  11.,  86., 181.,  15.,   0.],\n",
      "        [  8.,  46.,  32.,   1.,   1.,   7.,  28.,  24., 246.,   0.],\n",
      "        [ 12., 105.,  35.,  31.,   5.,  33.,  55.,  30.,  78.,   3.]])\n"
     ]
    }
   ],
   "source": [
    "nb_classes = 10\n",
    "\n",
    "confusion_matrix = torch.zeros(nb_classes, nb_classes)\n",
    "with torch.no_grad():\n",
    "    for i, (inputs, classes) in enumerate(test_loader):\n",
    "        inputs = inputs.to(device)\n",
    "        classes = classes.to(device)\n",
    "        outputs = net.forward(inputs.view(-1,3*40*40))\n",
    "        _, preds = torch.max(outputs, 1)\n",
    "        for t, p in zip(classes.view(-1), preds.view(-1)):\n",
    "                confusion_matrix[t.long(), p.long()] += 1\n",
    "\n",
    "print(confusion_matrix)"
   ]
  },
  {
   "cell_type": "code",
   "execution_count": 41,
   "metadata": {
    "execution": {
     "iopub.execute_input": "2021-08-26T10:08:59.016125Z",
     "iopub.status.busy": "2021-08-26T10:08:59.015748Z",
     "iopub.status.idle": "2021-08-26T10:08:59.826184Z",
     "shell.execute_reply": "2021-08-26T10:08:59.825283Z",
     "shell.execute_reply.started": "2021-08-26T10:08:59.016094Z"
    }
   },
   "outputs": [
    {
     "data": {
      "text/plain": [
       "Text(0.5, 15.0, 'Predicted label')"
      ]
     },
     "execution_count": 41,
     "metadata": {},
     "output_type": "execute_result"
    },
    {
     "data": {
      "image/png": "[encoded data removed]",
      "text/plain": [
       "<Figure size 432x288 with 2 Axes>"
      ]
     },
     "metadata": {
      "needs_background": "light"
     },
     "output_type": "display_data"
    }
   ],
   "source": [
    "import pandas as pd\n",
    "import seaborn as sns\n",
    "class_names = [\"0\",\"1\",\"2\",\"3\",\"4\",\"5\",\"6\",\"7\",\"8\",\"9\"]\n",
    "df_cm = pd.DataFrame(confusion_matrix, index=class_names, columns=class_names).astype(int)\n",
    "heatmap = sns.heatmap(df_cm, annot=True, fmt=\"d\")\n",
    "\n",
    "heatmap.yaxis.set_ticklabels(heatmap.yaxis.get_ticklabels(), rotation=0, ha='right',fontsize=20)\n",
    "heatmap.xaxis.set_ticklabels(heatmap.xaxis.get_ticklabels(), rotation=45, ha='right',fontsize=20)\n",
    "plt.ylabel('True label')\n",
    "plt.xlabel('Predicted label')"
   ]
  },
  {
   "cell_type": "code",
   "execution_count": null,
   "metadata": {},
   "outputs": [],
   "source": []
  },
  {
   "cell_type": "code",
   "execution_count": 29,
   "metadata": {
    "execution": {
     "iopub.execute_input": "2021-08-26T09:44:51.616377Z",
     "iopub.status.busy": "2021-08-26T09:44:51.615711Z",
     "iopub.status.idle": "2021-08-26T09:44:51.626530Z",
     "shell.execute_reply": "2021-08-26T09:44:51.625507Z",
     "shell.execute_reply.started": "2021-08-26T09:44:51.616332Z"
    }
   },
   "outputs": [],
   "source": [
    "# Path='./net.pth'\n",
    "# for epoch in range(30):  # loop over the dataset multiple times\n",
    "#     for data in train_loader:\n",
    "#         X,y=data\n",
    "#         X, y = X.to(device), y.to(device)\n",
    "#         net.zero_grad()\n",
    "#         output=net(X.view(-1,3*40*40))\n",
    "#         loss=criterion(output,y)\n",
    "#         loss.backward()\n",
    "#         optimizer.step()\n",
    "#     print(loss)\n",
    "        \n",
    "# torch.save(net.state_dict(), Path)"
   ]
  },
  {
   "cell_type": "code",
   "execution_count": null,
   "metadata": {},
   "outputs": [],
   "source": []
  },
  {
   "cell_type": "code",
   "execution_count": null,
   "metadata": {},
   "outputs": [],
   "source": []
  },
  {
   "cell_type": "code",
   "execution_count": 30,
   "metadata": {
    "execution": {
     "iopub.execute_input": "2021-08-26T09:44:51.628355Z",
     "iopub.status.busy": "2021-08-26T09:44:51.627787Z",
     "iopub.status.idle": "2021-08-26T09:44:51.638270Z",
     "shell.execute_reply": "2021-08-26T09:44:51.637106Z",
     "shell.execute_reply.started": "2021-08-26T09:44:51.628310Z"
    }
   },
   "outputs": [],
   "source": [
    "# correct=0\n",
    "# total=0\n",
    "# with torch.no_grad():\n",
    "#     for data in test_loader:\n",
    "#         X,y=data\n",
    "#         X, y = X.to(device), y.to(device)\n",
    "        \n",
    "#         output=net(X.view(-1,3*40*40))\n",
    "#         for idx, i in enumerate(output):\n",
    "#             if torch.argmax(i)==y[idx]:\n",
    "#                 correct+=1\n",
    "#             total+=1\n",
    "            \n",
    "# print(round(correct/total,3))"
   ]
  },
  {
   "cell_type": "code",
   "execution_count": null,
   "metadata": {},
   "outputs": [],
   "source": []
  },
  {
   "cell_type": "code",
   "execution_count": null,
   "metadata": {},
   "outputs": [],
   "source": []
  },
  {
   "cell_type": "code",
   "execution_count": null,
   "metadata": {},
   "outputs": [],
   "source": []
  },
  {
   "cell_type": "code",
   "execution_count": null,
   "metadata": {},
   "outputs": [],
   "source": []
  },
  {
   "cell_type": "code",
   "execution_count": null,
   "metadata": {},
   "outputs": [],
   "source": []
  }
 ],
 "metadata": {
  "kernelspec": {
   "display_name": "Python 3",
   "language": "python",
   "name": "python3"
  },
  "language_info": {
   "codemirror_mode": {
    "name": "ipython",
    "version": 3
   },
   "file_extension": ".py",
   "mimetype": "text/x-python",
   "name": "python",
   "nbconvert_exporter": "python",
   "pygments_lexer": "ipython3",
   "version": "3.8.3"
  }
 },
 "nbformat": 4,
 "nbformat_minor": 4
}
